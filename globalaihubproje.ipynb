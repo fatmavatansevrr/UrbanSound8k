{
 "cells": [
  {
   "cell_type": "code",
   "execution_count": 2,
   "metadata": {
    "id": "1Jd6v2rQezuE"
   },
   "outputs": [],
   "source": [
    "import numpy as np\n",
    "import pandas as pd\n",
    "import matplotlib.pyplot as plt\n",
    "import os\n",
    "import librosa\n",
    "import librosa.display\n",
    "from glob import glob \n",
    "import cv2\n",
    "import tensorflow as tf\n",
    "from sklearn.model_selection import train_test_split\n"
   ]
  },
  {
   "cell_type": "markdown",
   "metadata": {},
   "source": [
    "Folder information about the spectrograms:\n",
    "* classID:\n",
    "A numeric identifier of the sound class:\n",
    "* 0 = air_conditioner\n",
    "* 1 = car_horn\n",
    "* 2 = children_playing\n",
    "* 3 = dog_bark\n",
    "* 4 = drilling\n",
    "* 5 = engine_idling\n",
    "* 6 = gun_shot\n",
    "* 7 = jackhammer\n",
    "* 8 = siren\n",
    "* 9 = street_music"
   ]
  },
  {
   "cell_type": "markdown",
   "metadata": {
    "id": "j-jyFItANB4j"
   },
   "source": [
    "\n"
   ]
  },
  {
   "cell_type": "code",
   "execution_count": 3,
   "metadata": {
    "id": "kmdNZtn5mcMl"
   },
   "outputs": [],
   "source": [
    "#2. (Preprocessing) - Notebook\n",
    "\"\"\"\n",
    "Read the spectrograms - > Then grayscale transaction -> Resizing -> Normalisation.\n",
    "\"\"\"\n",
    "all_img_label = [] # The list for keeping img and label ->[img, label]\n",
    "path = \"./spectrograms\"\n",
    "folders = ['0', '1', '2', '3', '4', '5', '6', '7', '8', '9']\n",
    "classes = ['air_conditioner','car_horn','children_playing','dog_bark','drilling','engine_idling',\n",
    "           'gun_shot','jackhammer','siren','street_music']\n",
    "# Function to load files and extract features\n",
    "for folder in folders:\n",
    "    for img_file in os.listdir(path+\"/\"+folder):\n",
    "        if img_file.endswith('.png'):  \n",
    "            img_path = path+\"/\"+folder+'/'+img_file\n",
    "            all_img_label.append([img_path,classes[int(folder)]])\n",
    "        \n",
    "\n"
   ]
  },
  {
   "cell_type": "code",
   "execution_count": 4,
   "metadata": {},
   "outputs": [
    {
     "data": {
      "text/html": [
       "<div>\n",
       "<style scoped>\n",
       "    .dataframe tbody tr th:only-of-type {\n",
       "        vertical-align: middle;\n",
       "    }\n",
       "\n",
       "    .dataframe tbody tr th {\n",
       "        vertical-align: top;\n",
       "    }\n",
       "\n",
       "    .dataframe thead th {\n",
       "        text-align: right;\n",
       "    }\n",
       "</style>\n",
       "<table border=\"1\" class=\"dataframe\">\n",
       "  <thead>\n",
       "    <tr style=\"text-align: right;\">\n",
       "      <th></th>\n",
       "      <th>img</th>\n",
       "      <th>label</th>\n",
       "    </tr>\n",
       "  </thead>\n",
       "  <tbody>\n",
       "    <tr>\n",
       "      <th>0</th>\n",
       "      <td>./spectrograms/0/100852-0-0-0.png</td>\n",
       "      <td>air_conditioner</td>\n",
       "    </tr>\n",
       "    <tr>\n",
       "      <th>1</th>\n",
       "      <td>./spectrograms/0/100852-0-0-1.png</td>\n",
       "      <td>air_conditioner</td>\n",
       "    </tr>\n",
       "    <tr>\n",
       "      <th>2</th>\n",
       "      <td>./spectrograms/0/100852-0-0-10.png</td>\n",
       "      <td>air_conditioner</td>\n",
       "    </tr>\n",
       "    <tr>\n",
       "      <th>3</th>\n",
       "      <td>./spectrograms/0/100852-0-0-11.png</td>\n",
       "      <td>air_conditioner</td>\n",
       "    </tr>\n",
       "    <tr>\n",
       "      <th>4</th>\n",
       "      <td>./spectrograms/0/100852-0-0-12.png</td>\n",
       "      <td>air_conditioner</td>\n",
       "    </tr>\n",
       "    <tr>\n",
       "      <th>...</th>\n",
       "      <td>...</td>\n",
       "      <td>...</td>\n",
       "    </tr>\n",
       "    <tr>\n",
       "      <th>8727</th>\n",
       "      <td>./spectrograms/9/99710-9-0-12.png</td>\n",
       "      <td>street_music</td>\n",
       "    </tr>\n",
       "    <tr>\n",
       "      <th>8728</th>\n",
       "      <td>./spectrograms/9/99710-9-0-16.png</td>\n",
       "      <td>street_music</td>\n",
       "    </tr>\n",
       "    <tr>\n",
       "      <th>8729</th>\n",
       "      <td>./spectrograms/9/99710-9-0-2.png</td>\n",
       "      <td>street_music</td>\n",
       "    </tr>\n",
       "    <tr>\n",
       "      <th>8730</th>\n",
       "      <td>./spectrograms/9/99710-9-0-5.png</td>\n",
       "      <td>street_music</td>\n",
       "    </tr>\n",
       "    <tr>\n",
       "      <th>8731</th>\n",
       "      <td>./spectrograms/9/99710-9-0-6.png</td>\n",
       "      <td>street_music</td>\n",
       "    </tr>\n",
       "  </tbody>\n",
       "</table>\n",
       "<p>8732 rows × 2 columns</p>\n",
       "</div>"
      ],
      "text/plain": [
       "                                     img            label\n",
       "0      ./spectrograms/0/100852-0-0-0.png  air_conditioner\n",
       "1      ./spectrograms/0/100852-0-0-1.png  air_conditioner\n",
       "2     ./spectrograms/0/100852-0-0-10.png  air_conditioner\n",
       "3     ./spectrograms/0/100852-0-0-11.png  air_conditioner\n",
       "4     ./spectrograms/0/100852-0-0-12.png  air_conditioner\n",
       "...                                  ...              ...\n",
       "8727   ./spectrograms/9/99710-9-0-12.png     street_music\n",
       "8728   ./spectrograms/9/99710-9-0-16.png     street_music\n",
       "8729    ./spectrograms/9/99710-9-0-2.png     street_music\n",
       "8730    ./spectrograms/9/99710-9-0-5.png     street_music\n",
       "8731    ./spectrograms/9/99710-9-0-6.png     street_music\n",
       "\n",
       "[8732 rows x 2 columns]"
      ]
     },
     "execution_count": 4,
     "metadata": {},
     "output_type": "execute_result"
    }
   ],
   "source": [
    "df = pd.DataFrame(all_img_label,columns =['img',\"label\"])\n",
    "df "
   ]
  },
  {
   "cell_type": "code",
   "execution_count": 7,
   "metadata": {},
   "outputs": [],
   "source": [
    "# Create a dataframe for mapping label\n",
    "df_labels = {\n",
    "    'air_conditioner' : 0,\n",
    "    'car_horn' : 1,\n",
    "    'children_playing' : 2,\n",
    "    'dog_bark' : 3,\n",
    "    'drilling': 4,\n",
    "    'engine_idling':5,\n",
    "    'gun_shot':6,\n",
    "    'jackhammer':7,\n",
    "    'siren':8,\n",
    "    'street_music':9,\n",
    "    \n",
    "}\n",
    "# Encode\n",
    "df['encode_label'] = df['label'].map(df_labels)"
   ]
  },
  {
   "cell_type": "code",
   "execution_count": 8,
   "metadata": {},
   "outputs": [],
   "source": [
    "X = []\n",
    "for img in df['img']:\n",
    "    #grayscale\n",
    "    img = cv2.imread(str(img), cv2.IMREAD_GRAYSCALE)\n",
    "    #resize\n",
    "    img = cv2.resize(img,(128, 128))\n",
    "    #normalization\n",
    "    img = img/255\n",
    "    X.append(img)"
   ]
  },
  {
   "cell_type": "code",
   "execution_count": 9,
   "metadata": {},
   "outputs": [],
   "source": [
    "y = df['encode_label']"
   ]
  },
  {
   "cell_type": "code",
   "execution_count": 12,
   "metadata": {},
   "outputs": [],
   "source": [
    "\"\"\"c. X_train, y_train, X_val, y_val, X_test and y_test \"\"\"\n",
    "X_train, X_test_val, y_train, y_test_val = train_test_split(X, y)\n",
    "X_test, X_val, y_test, y_val = train_test_split(X_test_val, y_test_val)\n"
   ]
  },
  {
   "cell_type": "code",
   "execution_count": 13,
   "metadata": {},
   "outputs": [],
   "source": [
    "X_train = np.array(X_train)\n",
    "X_test = np.array(X_test)\n",
    "X_val = np.array(X_val)\n",
    "y_train = np.array(y_train)\n",
    "y_test = np.array(y_test)\n",
    "y_val = np.array(y_val)"
   ]
  },
  {
   "cell_type": "code",
   "execution_count": 14,
   "metadata": {},
   "outputs": [],
   "source": [
    "X_train = X_train.reshape(-1,128,128,1)\n",
    "X_test = X_test.reshape(-1,128,128,1)\n",
    "X_val = X_val.reshape(-1,128,128,1)\n",
    "y_train = y_train.reshape(-1,)\n",
    "y_test = y_test.reshape(-1,)\n",
    "y_val = y_val.reshape(-1,)"
   ]
  },
  {
   "cell_type": "code",
   "execution_count": 15,
   "metadata": {
    "id": "JRf9dCromkda"
   },
   "outputs": [
    {
     "name": "stdout",
     "output_type": "stream",
     "text": [
      "Model: \"sequential\"\n",
      "_________________________________________________________________\n",
      " Layer (type)                Output Shape              Param #   \n",
      "=================================================================\n",
      " conv2d (Conv2D)             (None, 128, 128, 32)      320       \n",
      "                                                                 \n",
      " max_pooling2d (MaxPooling2D  (None, 64, 64, 32)       0         \n",
      " )                                                               \n",
      "                                                                 \n",
      " conv2d_1 (Conv2D)           (None, 64, 64, 64)        18496     \n",
      "                                                                 \n",
      " max_pooling2d_1 (MaxPooling  (None, 32, 32, 64)       0         \n",
      " 2D)                                                             \n",
      "                                                                 \n",
      " conv2d_2 (Conv2D)           (None, 32, 32, 32)        18464     \n",
      "                                                                 \n",
      " flatten (Flatten)           (None, 32768)             0         \n",
      "                                                                 \n",
      " dense (Dense)               (None, 64)                2097216   \n",
      "                                                                 \n",
      " dropout (Dropout)           (None, 64)                0         \n",
      "                                                                 \n",
      " dense_1 (Dense)             (None, 64)                4160      \n",
      "                                                                 \n",
      " dropout_1 (Dropout)         (None, 64)                0         \n",
      "                                                                 \n",
      " dense_2 (Dense)             (None, 10)                650       \n",
      "                                                                 \n",
      "=================================================================\n",
      "Total params: 2,139,306\n",
      "Trainable params: 2,139,306\n",
      "Non-trainable params: 0\n",
      "_________________________________________________________________\n"
     ]
    }
   ],
   "source": [
    "#3. (Building and Training the model) - Notebook\n",
    "from tensorflow.keras.models import Sequential\n",
    "from tensorflow.keras.layers import Conv2D, MaxPooling2D, Dense, Flatten, Dropout,Input\n",
    "model = Sequential()\n",
    "# Add a convolution and max pooling layer\n",
    "model.add(Conv2D(32,kernel_size = (3,3),strides=(1,1),padding = \"same\",activation = \"relu\",input_shape=(128,128,1)))\n",
    "model.add(MaxPooling2D((2,2)))\n",
    "# Add more convolution and max pooling layers\n",
    "model.add(Conv2D(64,kernel_size = (3,3),strides=(1,1),padding = \"same\",activation = \"relu\"))\n",
    "model.add(MaxPooling2D((2,2)))\n",
    "\n",
    "model.add(Conv2D(32,kernel_size = (3,3),strides=(1,1),padding = \"same\",activation = \"relu\"))\n",
    "\n",
    "# Flatten the convolution layer\n",
    "model.add(Flatten())\n",
    "\n",
    "# Add the dense layer and dropout layer\n",
    "model.add(Dense(64,activation=\"relu\"))\n",
    "model.add(Dropout(0.5))\n",
    "\n",
    "# Add the dense layer and dropout layer\n",
    "model.add(Dense(64,activation=\"relu\"))\n",
    "model.add(Dropout(0.5))\n",
    "\n",
    "# Add the output layer\n",
    "model.add(Dense(10,activation=\"softmax\"))\n",
    "\n",
    "# Compile the model\n",
    "model.compile(optimizer=\"adam\",loss=\"sparse_categorical_crossentropy\",metrics=[\"accuracy\"])\n",
    "model.summary()"
   ]
  },
  {
   "cell_type": "code",
   "execution_count": 16,
   "metadata": {},
   "outputs": [
    {
     "name": "stdout",
     "output_type": "stream",
     "text": [
      "Epoch 1/50\n",
      "52/52 [==============================] - 50s 941ms/step - loss: 2.0593 - accuracy: 0.2301 - val_loss: 1.7248 - val_accuracy: 0.4524\n",
      "Epoch 2/50\n",
      "52/52 [==============================] - 49s 946ms/step - loss: 1.7050 - accuracy: 0.3769 - val_loss: 1.3305 - val_accuracy: 0.5861\n",
      "Epoch 3/50\n",
      "52/52 [==============================] - 49s 945ms/step - loss: 1.4685 - accuracy: 0.4746 - val_loss: 1.0880 - val_accuracy: 0.6520\n",
      "Epoch 4/50\n",
      "52/52 [==============================] - 48s 922ms/step - loss: 1.2814 - accuracy: 0.5485 - val_loss: 1.0086 - val_accuracy: 0.6447\n",
      "Epoch 5/50\n",
      "52/52 [==============================] - 52s 1s/step - loss: 1.1490 - accuracy: 0.5833 - val_loss: 0.8389 - val_accuracy: 0.7473\n",
      "Epoch 6/50\n",
      "52/52 [==============================] - 53s 1s/step - loss: 1.0535 - accuracy: 0.6375 - val_loss: 0.8971 - val_accuracy: 0.7125\n",
      "Epoch 7/50\n",
      "52/52 [==============================] - 49s 936ms/step - loss: 0.9527 - accuracy: 0.6700 - val_loss: 0.7704 - val_accuracy: 0.7381\n",
      "Epoch 8/50\n",
      "52/52 [==============================] - 54s 1s/step - loss: 0.8802 - accuracy: 0.6894 - val_loss: 0.7129 - val_accuracy: 0.7491\n",
      "Epoch 9/50\n",
      "52/52 [==============================] - 53s 1s/step - loss: 0.8061 - accuracy: 0.7216 - val_loss: 0.6480 - val_accuracy: 0.7821\n",
      "Epoch 10/50\n",
      "52/52 [==============================] - 52s 1s/step - loss: 0.7487 - accuracy: 0.7340 - val_loss: 0.6085 - val_accuracy: 0.8388\n",
      "Epoch 11/50\n",
      "52/52 [==============================] - 52s 1s/step - loss: 0.7223 - accuracy: 0.7520 - val_loss: 0.5914 - val_accuracy: 0.8242\n",
      "Epoch 12/50\n",
      "52/52 [==============================] - 53s 1s/step - loss: 0.6524 - accuracy: 0.7781 - val_loss: 0.6251 - val_accuracy: 0.8352\n",
      "Epoch 13/50\n",
      "52/52 [==============================] - 54s 1s/step - loss: 0.5967 - accuracy: 0.7885 - val_loss: 0.5562 - val_accuracy: 0.8480\n",
      "Epoch 14/50\n",
      "52/52 [==============================] - 53s 1s/step - loss: 0.5982 - accuracy: 0.7871 - val_loss: 0.5956 - val_accuracy: 0.8187\n",
      "Epoch 15/50\n",
      "52/52 [==============================] - 54s 1s/step - loss: 0.5598 - accuracy: 0.8018 - val_loss: 0.5747 - val_accuracy: 0.8443\n",
      "Epoch 16/50\n",
      "52/52 [==============================] - 53s 1s/step - loss: 0.5112 - accuracy: 0.8152 - val_loss: 0.5487 - val_accuracy: 0.8590\n",
      "Epoch 17/50\n",
      "52/52 [==============================] - 51s 987ms/step - loss: 0.4972 - accuracy: 0.8224 - val_loss: 0.5369 - val_accuracy: 0.8535\n",
      "Epoch 18/50\n",
      "52/52 [==============================] - 50s 960ms/step - loss: 0.4747 - accuracy: 0.8314 - val_loss: 0.5345 - val_accuracy: 0.8480\n",
      "Epoch 19/50\n",
      "52/52 [==============================] - 48s 926ms/step - loss: 0.4596 - accuracy: 0.8371 - val_loss: 0.5749 - val_accuracy: 0.8462\n",
      "Epoch 20/50\n",
      "52/52 [==============================] - 48s 922ms/step - loss: 0.4528 - accuracy: 0.8397 - val_loss: 0.5540 - val_accuracy: 0.8608\n",
      "Epoch 21/50\n",
      "52/52 [==============================] - 49s 934ms/step - loss: 0.4038 - accuracy: 0.8546 - val_loss: 0.5582 - val_accuracy: 0.8443\n",
      "Epoch 22/50\n",
      "52/52 [==============================] - 49s 942ms/step - loss: 0.3910 - accuracy: 0.8581 - val_loss: 0.5625 - val_accuracy: 0.8553\n",
      "Epoch 23/50\n",
      "52/52 [==============================] - 50s 965ms/step - loss: 0.3808 - accuracy: 0.8620 - val_loss: 0.5868 - val_accuracy: 0.8608\n",
      "Epoch 24/50\n",
      "52/52 [==============================] - 49s 936ms/step - loss: 0.3732 - accuracy: 0.8604 - val_loss: 0.5818 - val_accuracy: 0.8480\n",
      "Epoch 25/50\n",
      "52/52 [==============================] - 48s 922ms/step - loss: 0.3720 - accuracy: 0.8678 - val_loss: 0.6185 - val_accuracy: 0.8498\n",
      "Epoch 26/50\n",
      "52/52 [==============================] - 48s 919ms/step - loss: 0.3493 - accuracy: 0.8717 - val_loss: 0.6850 - val_accuracy: 0.8590\n",
      "Epoch 27/50\n",
      "52/52 [==============================] - 51s 976ms/step - loss: 0.3477 - accuracy: 0.8751 - val_loss: 0.6789 - val_accuracy: 0.8443\n",
      "Epoch 28/50\n",
      "52/52 [==============================] - 53s 1s/step - loss: 0.3412 - accuracy: 0.8739 - val_loss: 0.6425 - val_accuracy: 0.8443\n",
      "Epoch 29/50\n",
      "52/52 [==============================] - 49s 947ms/step - loss: 0.3090 - accuracy: 0.8811 - val_loss: 0.6383 - val_accuracy: 0.8443\n",
      "Epoch 30/50\n",
      "52/52 [==============================] - 52s 996ms/step - loss: 0.3433 - accuracy: 0.8746 - val_loss: 0.6180 - val_accuracy: 0.8553\n",
      "Epoch 31/50\n",
      "52/52 [==============================] - 53s 1s/step - loss: 0.3351 - accuracy: 0.8800 - val_loss: 0.6372 - val_accuracy: 0.8462\n",
      "Epoch 32/50\n",
      "52/52 [==============================] - 48s 925ms/step - loss: 0.3205 - accuracy: 0.8853 - val_loss: 0.6350 - val_accuracy: 0.8462\n",
      "Epoch 33/50\n",
      "52/52 [==============================] - 50s 960ms/step - loss: 0.3164 - accuracy: 0.8794 - val_loss: 0.6927 - val_accuracy: 0.8516\n",
      "Epoch 34/50\n",
      "52/52 [==============================] - 48s 932ms/step - loss: 0.2972 - accuracy: 0.8873 - val_loss: 0.6528 - val_accuracy: 0.8718\n",
      "Epoch 35/50\n",
      "52/52 [==============================] - 48s 931ms/step - loss: 0.3033 - accuracy: 0.8869 - val_loss: 0.6420 - val_accuracy: 0.8645\n",
      "Epoch 36/50\n",
      "52/52 [==============================] - 48s 928ms/step - loss: 0.2918 - accuracy: 0.8922 - val_loss: 0.6462 - val_accuracy: 0.8590\n",
      "Epoch 37/50\n",
      "52/52 [==============================] - 48s 928ms/step - loss: 0.2810 - accuracy: 0.8940 - val_loss: 0.6289 - val_accuracy: 0.8553\n",
      "Epoch 38/50\n",
      "52/52 [==============================] - 48s 927ms/step - loss: 0.2882 - accuracy: 0.8907 - val_loss: 0.6461 - val_accuracy: 0.8645\n",
      "Epoch 39/50\n",
      "52/52 [==============================] - 48s 929ms/step - loss: 0.2624 - accuracy: 0.9026 - val_loss: 0.6965 - val_accuracy: 0.8645\n",
      "Epoch 40/50\n",
      "52/52 [==============================] - 50s 954ms/step - loss: 0.2803 - accuracy: 0.8966 - val_loss: 0.6959 - val_accuracy: 0.8681\n",
      "Epoch 41/50\n",
      "52/52 [==============================] - 52s 998ms/step - loss: 0.2740 - accuracy: 0.8978 - val_loss: 0.6595 - val_accuracy: 0.8516\n",
      "Epoch 42/50\n",
      "52/52 [==============================] - 48s 927ms/step - loss: 0.2744 - accuracy: 0.8951 - val_loss: 0.6588 - val_accuracy: 0.8681\n",
      "Epoch 43/50\n",
      "52/52 [==============================] - 48s 920ms/step - loss: 0.2478 - accuracy: 0.9096 - val_loss: 0.7255 - val_accuracy: 0.8645\n",
      "Epoch 44/50\n",
      "52/52 [==============================] - 46s 892ms/step - loss: 0.2667 - accuracy: 0.9014 - val_loss: 0.6877 - val_accuracy: 0.8553\n",
      "Epoch 45/50\n",
      "52/52 [==============================] - 44s 853ms/step - loss: 0.2555 - accuracy: 0.9035 - val_loss: 0.7600 - val_accuracy: 0.8516\n",
      "Epoch 46/50\n",
      "52/52 [==============================] - 46s 883ms/step - loss: 0.2581 - accuracy: 0.9056 - val_loss: 0.7006 - val_accuracy: 0.8608\n",
      "Epoch 47/50\n",
      "52/52 [==============================] - 46s 881ms/step - loss: 0.2489 - accuracy: 0.9098 - val_loss: 0.6940 - val_accuracy: 0.8553\n",
      "Epoch 48/50\n",
      "52/52 [==============================] - 46s 876ms/step - loss: 0.2495 - accuracy: 0.9116 - val_loss: 0.7078 - val_accuracy: 0.8535\n",
      "Epoch 49/50\n",
      "52/52 [==============================] - 46s 879ms/step - loss: 0.2470 - accuracy: 0.9085 - val_loss: 0.6779 - val_accuracy: 0.8645\n",
      "Epoch 50/50\n",
      "52/52 [==============================] - 47s 903ms/step - loss: 0.2417 - accuracy: 0.9102 - val_loss: 0.6681 - val_accuracy: 0.8810\n"
     ]
    }
   ],
   "source": [
    "results=model.fit(X_train,y_train,\n",
    "                 batch_size=128,\n",
    "                 epochs=50,validation_data=(X_val,y_val))"
   ]
  },
  {
   "cell_type": "code",
   "execution_count": 21,
   "metadata": {},
   "outputs": [
    {
     "data": {
      "image/png": "[encoded data removed]",
      "text/plain": [
       "<Figure size 432x288 with 1 Axes>"
      ]
     },
     "metadata": {
      "needs_background": "light"
     },
     "output_type": "display_data"
    }
   ],
   "source": [
    "#4. (Visualizing data and model)\n",
    "# Plot the the training loss\n",
    "plt.plot(results.history[\"loss\"],label=\"loss\")\n",
    "\n",
    "# Plot the the validation loss\n",
    "plt.plot(results.history[\"val_loss\"],label=\"val_loss\")\n",
    "\n",
    "# Name the x and y axises\n",
    "plt.xlabel(\"Epoch\")\n",
    "plt.ylabel(\"Loss\")\n",
    "\n",
    "# Put legend table\n",
    "plt.legend()\n",
    "\n",
    "# Show the plot\n",
    "plt.show()\n",
    "\n"
   ]
  },
  {
   "cell_type": "code",
   "execution_count": 22,
   "metadata": {},
   "outputs": [
    {
     "data": {
      "image/png": "[encoded data removed]",
      "text/plain": [
       "<Figure size 432x288 with 1 Axes>"
      ]
     },
     "metadata": {
      "needs_background": "light"
     },
     "output_type": "display_data"
    }
   ],
   "source": [
    "# Plot the the training accuracy\n",
    "plt.plot(results.history[\"accuracy\"],label=\"accuracy\")\n",
    "\n",
    "# Plot the the validation accuracy\n",
    "plt.plot(results.history[\"val_accuracy\"],label=\"val_accuracy\")\n",
    "\n",
    "# Name the x and y axises\n",
    "plt.xlabel(\"Epoch\")\n",
    "plt.ylabel(\"Loss\")\n",
    "\n",
    "# Put legend table\n",
    "plt.legend()\n",
    "\n",
    "# Show the plot\n",
    "plt.show()\n"
   ]
  },
  {
   "cell_type": "code",
   "execution_count": 24,
   "metadata": {
    "id": "khTGYl8Im_SF"
   },
   "outputs": [
    {
     "name": "stdout",
     "output_type": "stream",
     "text": [
      "52/52 [==============================] - 3s 49ms/step - loss: 0.6092 - accuracy: 0.8894\n"
     ]
    },
    {
     "data": {
      "text/plain": [
       "[0.609165370464325, 0.889431893825531]"
      ]
     },
     "execution_count": 24,
     "metadata": {},
     "output_type": "execute_result"
    }
   ],
   "source": [
    "# Evaluate the performance\n",
    "model.evaluate(X_test,y_test)\n"
   ]
  },
  {
   "cell_type": "code",
   "execution_count": null,
   "metadata": {},
   "outputs": [],
   "source": []
  },
  {
   "cell_type": "code",
   "execution_count": null,
   "metadata": {},
   "outputs": [],
   "source": []
  },
  {
   "cell_type": "code",
   "execution_count": null,
   "metadata": {},
   "outputs": [],
   "source": []
  },
  {
   "cell_type": "code",
   "execution_count": null,
   "metadata": {},
   "outputs": [],
   "source": []
  },
  {
   "cell_type": "code",
   "execution_count": null,
   "metadata": {},
   "outputs": [],
   "source": []
  },
  {
   "cell_type": "code",
   "execution_count": null,
   "metadata": {},
   "outputs": [],
   "source": []
  },
  {
   "cell_type": "code",
   "execution_count": null,
   "metadata": {},
   "outputs": [],
   "source": []
  },
  {
   "cell_type": "code",
   "execution_count": null,
   "metadata": {},
   "outputs": [],
   "source": []
  },
  {
   "cell_type": "code",
   "execution_count": null,
   "metadata": {},
   "outputs": [],
   "source": []
  },
  {
   "cell_type": "code",
   "execution_count": null,
   "metadata": {},
   "outputs": [],
   "source": []
  },
  {
   "cell_type": "code",
   "execution_count": null,
   "metadata": {},
   "outputs": [],
   "source": []
  },
  {
   "cell_type": "code",
   "execution_count": null,
   "metadata": {},
   "outputs": [],
   "source": [
    "\n"
   ]
  }
 ],
 "metadata": {
  "colab": {
   "collapsed_sections": [],
   "provenance": []
  },
  "kernelspec": {
   "display_name": "Python 3 (ipykernel)",
   "language": "python",
   "name": "python3"
  },
  "language_info": {
   "codemirror_mode": {
    "name": "ipython",
    "version": 3
   },
   "file_extension": ".py",
   "mimetype": "text/x-python",
   "name": "python",
   "nbconvert_exporter": "python",
   "pygments_lexer": "ipython3",
   "version": "3.9.12"
  }
 },
 "nbformat": 4,
 "nbformat_minor": 1
}
